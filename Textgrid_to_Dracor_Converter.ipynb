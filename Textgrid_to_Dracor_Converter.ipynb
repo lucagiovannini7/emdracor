{
  "cells": [
    {
      "cell_type": "markdown",
      "metadata": {
        "id": "view-in-github",
        "colab_type": "text"
      },
      "source": [
        "<a href=\"https://colab.research.google.com/github/lucagiovannini7/baroque-networks/blob/main/Textgrid_to_Dracor_Converter.ipynb\" target=\"_parent\"><img src=\"https://colab.research.google.com/assets/colab-badge.svg\" alt=\"Open In Colab\"/></a>"
      ]
    },
    {
      "cell_type": "markdown",
      "metadata": {
        "id": "RV0WYzt61cCH"
      },
      "source": [
        "#Textgrid-to-DraCor Conversion Script\n",
        "\n",
        "* Input: links to .xmls from the Textgrid library\n",
        "* Output: (almost) DraCor-ready .xmls\n",
        "\n",
        "Modified version of the [Emothe-to-Dracor conversion script](https://github.com/lucagiovannini7/baroque-networks/blob/main/MassConvertEmoThe.ipynb).\n",
        "\n",
        "Written mostly by [Daniil Skorinkin](https://github.com/DanilSko), with some help by [Luca Giovannini](https://github.com/LucaGiovannini7), 2022."
      ]
    },
    {
      "cell_type": "markdown",
      "metadata": {
        "id": "4207c452"
      },
      "source": [
        "## Imports"
      ]
    },
    {
      "cell_type": "code",
      "execution_count": null,
      "metadata": {
        "id": "595f99eb"
      },
      "outputs": [],
      "source": [
        "from bs4 import BeautifulSoup, Tag\n",
        "import re\n",
        "import os\n",
        "!pip install wget\n",
        "import wget\n",
        "import time\n",
        "import requests\n",
        "from tqdm import tqdm\n",
        "from datetime import datetime\n",
        "from string import punctuation"
      ]
    },
    {
      "cell_type": "markdown",
      "metadata": {
        "id": "7da7b5bf"
      },
      "source": [
        "## Reading data"
      ]
    },
    {
      "cell_type": "code",
      "execution_count": null,
      "metadata": {
        "id": "b8c84745"
      },
      "outputs": [],
      "source": [
        "xmls_addresses = ['http://textgridlab.org/1.0/tgcrud-public/rest/textgrid:sssj.0/data',\n",
        "'http://textgridlab.org/1.0/tgcrud-public/rest/textgrid:n2m1.0/data']"
      ]
    },
    {
      "cell_type": "code",
      "execution_count": null,
      "metadata": {
        "id": "43430bb7"
      },
      "outputs": [],
      "source": [
        "len(xmls_addresses)"
      ]
    },
    {
      "cell_type": "code",
      "execution_count": null,
      "metadata": {
        "id": "cbaf387e"
      },
      "outputs": [],
      "source": [
        "!mkdir 'source_xmls'"
      ]
    },
    {
      "cell_type": "code",
      "execution_count": null,
      "metadata": {
        "id": "5f095819"
      },
      "outputs": [],
      "source": [
        "for url in tqdm(xmls_addresses):\n",
        "    filename = url.split(':')[-1].replace('/','_')\n",
        "    time.sleep(0.1)\n",
        "    response = requests.get(url, verify=False)\n",
        "    response.encoding = response.apparent_encoding\n",
        "    filetext = response.text\n",
        "    with open(f'source_xmls/{filename}','w', encoding='utf-8') as filetowrite:\n",
        "        filetowrite.write(filetext)"
      ]
    },
    {
      "cell_type": "markdown",
      "metadata": {
        "id": "e8dd6e3c"
      },
      "source": [
        "## Transformation of files"
      ]
    },
    {
      "cell_type": "markdown",
      "metadata": {
        "id": "1b251e09"
      },
      "source": [
        "### Transformation functions"
      ]
    },
    {
      "cell_type": "code",
      "execution_count": null,
      "metadata": {
        "id": "JQLr85co-Dj8"
      },
      "outputs": [],
      "source": [
        "def add_partic_desc(soup):\n",
        "    set_of_char_pairs = set() # множество пар ID + строка \n",
        "    for sp in soup.find_all('sp'):\n",
        "        try:\n",
        "          if 'who' in sp.attrs:\n",
        "              set_of_char_pairs.add((sp['who'], sp.speaker.text.strip('.: '))) \n",
        "        except:\n",
        "          pass\n",
        "    add_particdesc_to_header(soup, set_of_char_pairs)"
      ]
    },
    {
      "cell_type": "code",
      "execution_count": null,
      "metadata": {
        "id": "f214dfc5"
      },
      "outputs": [],
      "source": [
        "def guess_gender(persName):\n",
        "    if persName.lower().strip('.:[]()').endswith('a') or persName.lower().strip('.:[]()').endswith('e'):\n",
        "        return 'FEMALE'\n",
        "    return 'MALE'"
      ]
    },
    {
      "cell_type": "code",
      "execution_count": null,
      "metadata": {
        "id": "4e573ee1"
      },
      "outputs": [],
      "source": [
        "tags_to_remove = ['sponsor', 'funder', 'appInfo', \n",
        "                  'respStmt', 'principal', 'notesStmt', \n",
        "                  'encodingDesc', 'langUsage', 'pubPlace',\n",
        "                  'extent', 'authority', 'editionStmt', 'creation', 'lb'\n",
        "                 ]\n",
        "\n",
        "tags_to_check_parent_and_remove = {'date':'publicationStmt'}\n",
        "tags_with_attrs_to_remove = {'TEI':['xmlns:','xmlns:jxb','xmlns:tei','xmlns:tgl','xmlns:tgr','xmlns:tgs','xmlns:tns','xmlns:xsi'],\n",
        "                             'teiHeader':['xmlns:xi','xmlns:fn','xmlns:a'], \n",
        "                             'head':['type', 'xml:id'], 'keywords':['scheme'],\n",
        "                             'stage':['xml:id','rend'], 'editor':['role'], \n",
        "                             'p':['type','xml:id', 'n', 'rend'], 'sp':['xml:id'], 'l':['xml:id', 'rend'],\n",
        "                             'lb':['xml:id'], 'castItem':['xml:id','rend'],'pb':['xml:id','type'],\n",
        "                             'div':['xml:id', 'n', 'type', 'subtype'],'speaker':['xml:id'],\n",
        "                             'role':['xml:id'], 'seg':['xml:id', 'rend'],'hi':['rend','xml:id']}\n",
        "\n",
        "attrs_to_be_renamed = [\n",
        "    {'tag':'div', 'attr':'type',         ##### leftovers from the Emothe converter\n",
        "     'old_value':'elenco', \n",
        "     'new_value':'Dramatis_Personae'},\n",
        "    {'tag':'div', 'attr':'type', \n",
        "     'old_value':'elenco', \n",
        "     'new_value':'Dramatis_Personae'}\n",
        "]\n",
        "tags_to_rename_and_add_attr = {'div1':('div', {'type':'act'}), 'div2':('div', {'type':'scene'})}\n",
        "tags_to_check_attr_and_remove = [\n",
        "    {'tag':'author', 'attr':'ana', \n",
        "     'value':'fiable'},\n",
        "    {'tag':'author', 'attr':'key', \n",
        "     'value':'archivo'},\n",
        "    {'tag':'title', 'attr':'key',                ##### leftovers from the Emothe converter\n",
        "     'value':'archivo'},\n",
        "    {'tag':'title', 'attr':'key', \n",
        "     'value':'orden'}\n",
        "] \n",
        "\n",
        "tags_to_replace_with_children = ['lg','hi','seg']"
      ]
    },
    {
      "cell_type": "code",
      "execution_count": null,
      "metadata": {
        "id": "f3e4a027"
      },
      "outputs": [],
      "source": [
        "def remove_tags(soup, tags_to_remove):\n",
        "    for tag in tags_to_remove:\n",
        "        all_occurrences = soup.findAll(tag)\n",
        "        for tag_instance in all_occurrences:\n",
        "            tag_instance.decompose()"
      ]
    },
    {
      "cell_type": "code",
      "execution_count": null,
      "metadata": {
        "id": "d6205ebe"
      },
      "outputs": [],
      "source": [
        "def remove_tags_parent_check(soup, tags_to_check_parent_and_remove):\n",
        "    for tag in tags_to_check_parent_and_remove:\n",
        "        all_occurrences = soup.findAll(tag)\n",
        "        parent = tags_to_check_parent_and_remove[tag]\n",
        "        for tag_instance in all_occurrences:\n",
        "            if tag_instance.parent.name == parent:\n",
        "                tag_instance.decompose()"
      ]
    },
    {
      "cell_type": "code",
      "execution_count": null,
      "metadata": {
        "id": "a1ce0cb1"
      },
      "outputs": [],
      "source": [
        "def rename_attrs(soup, attrs_to_be_renamed):\n",
        "    for attr in attrs_to_be_renamed:\n",
        "        tagname = attr['tag']\n",
        "        attrname = attr['attr']\n",
        "        old_value = attr['old_value']\n",
        "        new_value = attr['new_value']\n",
        "        all_occurrences = soup.findAll(tagname, attrs={attrname: old_value})\n",
        "        for tag_instance in all_occurrences: \n",
        "            tag_instance[attrname] = new_value"
      ]
    },
    {
      "cell_type": "code",
      "execution_count": null,
      "metadata": {
        "id": "de3f5b0d"
      },
      "outputs": [],
      "source": [
        "def remove_attrs(soup, tags_with_attrs_to_remove):\n",
        "    for tag in tags_with_attrs_to_remove:\n",
        "        all_occurrences = soup.findAll(tag)\n",
        "        attrs = tags_with_attrs_to_remove[tag]\n",
        "        for tag_instance in all_occurrences:\n",
        "            for attr in attrs:\n",
        "                del tag_instance[attr]"
      ]
    },
    {
      "cell_type": "code",
      "execution_count": null,
      "metadata": {
        "id": "9c7093a9"
      },
      "outputs": [],
      "source": [
        "def check_attr_and_remove(soup, tags_to_check_attr_and_remove):\n",
        "    for tag in tags_to_check_attr_and_remove:\n",
        "        tagname = tag['tag']\n",
        "        attrname = tag['attr']\n",
        "        old_value = tag['value']\n",
        "        all_occurrences = soup.findAll(tagname, attrs={attrname: old_value})\n",
        "        for tag_instance in all_occurrences: \n",
        "            tag_instance.decompose()"
      ]
    },
    {
      "cell_type": "code",
      "execution_count": null,
      "metadata": {
        "id": "a33b60c5"
      },
      "outputs": [],
      "source": [
        "def rename_tags_and_add_attr(soup, tags_to_rename_and_add_attr):\n",
        "    for tag in tags_to_rename_and_add_attr:\n",
        "        tagtofind = tag\n",
        "        newname = tags_to_rename_and_add_attr[tag][0]\n",
        "        newattrs = tags_to_rename_and_add_attr[tag][1]\n",
        "        all_occurrences = soup.findAll(tagtofind)\n",
        "        for tag_instance in all_occurrences: \n",
        "            tag_instance.name = newname\n",
        "            for attr in newattrs:\n",
        "                value = newattrs[attr]\n",
        "                tag_instance[attr] = value"
      ]
    },
    {
      "cell_type": "code",
      "execution_count": null,
      "metadata": {
        "id": "c111534e"
      },
      "outputs": [],
      "source": [
        "def replace_with_children(soup, tags_to_replace_with_children):\n",
        "    for tag in tags_to_replace_with_children:\n",
        "        all_occurrences = soup.findAll(tag)\n",
        "        for tag_instance in all_occurrences: \n",
        "            tag_instance.replaceWithChildren()"
      ]
    },
    {
      "cell_type": "code",
      "execution_count": null,
      "metadata": {
        "id": "KrHbUzrNjiME"
      },
      "outputs": [],
      "source": [
        "## creating an artificial particDesc\n",
        "\n",
        "def add_who_and_partic(soup):\n",
        "    set_of_char_pairs = set() # set of character id  -- character name pairs for particDesc \n",
        "    for sp in soup.find_all('sp'):\n",
        "        add_who(sp)\n",
        "        if 'who' in sp.attrs:\n",
        "            set_of_char_pairs.add((sp['who'], sp.speaker.text.strip('.:! '))) #\n",
        "    add_particdesc_to_header(soup, set_of_char_pairs)\n",
        "\n",
        "\n",
        "def add_particdesc_to_header(soup, set_of_char_pairs):\n",
        "    #print(set_of_char_pairs)\n",
        "    profileDesc = soup.find('profileDesc')\n",
        "    if profileDesc is None:\n",
        "        profileDesc = Tag(name = 'profileDesc')\n",
        "        teiHeader = soup.find('teiHeader')\n",
        "        teiHeader.append(profileDesc)\n",
        "    particDesc = Tag(name = 'particDesc')\n",
        "    profileDesc.append(particDesc)\n",
        "    listPerson = Tag(name = 'listPerson')\n",
        "    particDesc.append(listPerson)\n",
        "    \n",
        "    used_ids = []\n",
        "    for pair in set_of_char_pairs:\n",
        "        current_id = pair[0]\n",
        "        if current_id not in used_ids:\n",
        "            person = Tag(name = 'person')\n",
        "            person['xml:id'] = current_id\n",
        "            persName = Tag(name = 'persName')\n",
        "            person.append(persName)\n",
        "            persName.append(pair[1])\n",
        "            person['sex'] = guess_gender(pair[1]) \n",
        "            listPerson.append(person)\n",
        "            used_ids.append(current_id)\n",
        "\n",
        "\n",
        "\n",
        "def add_who(sp):\n",
        "    speaker = sp.find('speaker')\n",
        "    if speaker is None:\n",
        "        return\n",
        "    speaker_text = speaker.text\n",
        "    speaker_id = speaker_text.lower().strip('. ')\n",
        "    speaker_id = re.sub('\\s', '_', speaker_id)\n",
        "    speaker_id = re.sub('[\\'▪〈◊〉●—‛…ᵒ]', '', speaker_id)\n",
        "    speaker_id = ''.join([i for i in speaker_id if i not in punctuation])\n",
        "    sp['who'] = speaker_id"
      ]
    },
    {
      "cell_type": "code",
      "execution_count": null,
      "metadata": {
        "id": "ucMzjDLM6OJd"
      },
      "outputs": [],
      "source": [
        "def recreate_titleStmt(soup):\n",
        "    title_text = soup.titleStmt.title.text\n",
        "    soup.titleStmt.decompose()\n",
        "    author_name = soup.find('author')\n",
        "    author_text = author_name.text\n",
        "    try:\n",
        "        pnd_as_string = author_name['key'][4:] ##### skip \"\"pnd:\"\n",
        "    except:\n",
        "        pass  \n",
        "    new_titleStmt = f'''\n",
        "    <titleStmt>\n",
        "      <title></title>\n",
        "      <subtitle/>\n",
        "      <author>\n",
        "        <persName>\n",
        "          <forename></forename>\n",
        "          <surname></surname>\n",
        "        </persName>\n",
        "        <idno type=\"wikidata\"></idno>\n",
        "        <idno type=\"pnd\"></idno>\n",
        "      </author>\n",
        "    <titleStmt>\n",
        "'''\n",
        "    titlesoup = BeautifulSoup(new_titleStmt, 'xml')\n",
        "    soup.publicationStmt.insert_before(titlesoup)\n",
        "    try:\n",
        "        soup.fileDesc.find('surname').append(author_text.split(',')[0])\n",
        "        soup.fileDesc.find('forename').append(author_text.split(',')[1].strip())\n",
        "    except:\n",
        "        soup.fileDesc.find('surname').append(\"insert surname\")\n",
        "        soup.fileDesc.find('forename').append(\"insert forename\")\n",
        "    soup.fileDesc.find('title').append(str(title_text))\n",
        "    try:\n",
        "        soup.fileDesc.find('idno',attrs={'type':'pnd'}).append(pnd_as_string)\n",
        "    except:\n",
        "        soup.fileDesc.find('idno',attrs={'type':'pnd'}).append(\"insert pnd here\")"
      ]
    },
    {
      "cell_type": "code",
      "execution_count": null,
      "metadata": {
        "id": "p1wjAQAwLeXP"
      },
      "outputs": [],
      "source": []
    },
    {
      "cell_type": "code",
      "execution_count": null,
      "metadata": {
        "id": "q2pvwvZBeLwb"
      },
      "outputs": [],
      "source": [
        "def recreate_sourceDesc(soup):\n",
        "\n",
        "    textgrid_id = soup.publicationStmt.find('idno',attrs={'type':'TextGridUri'}).text\n",
        "    textgrid_id = textgrid_id[-6:]\n",
        "    originalSource = soup.sourceDesc.title.text\n",
        "    soup.sourceDesc.decompose()\n",
        "    digitalSource_as_string = f'''\n",
        "    <sourceDesc>\n",
        "      <bibl type=\"digitalSource\">\n",
        "        <name>TextGrid Repository</name>\n",
        "        <idno type=\"URL\">http://www.textgridrep.org/textgrid:{textgrid_id}</idno>\n",
        "        <availability>\n",
        "          <licence>\n",
        "            <ab>CC-BY-3.0</ab>\n",
        "            <ref target=\"http://creativecommons.org/licenses/by/3.0/de/legalcode\">Lizenzvertrag</ref>\n",
        "          </licence>\n",
        "        </availability>\n",
        "      </bibl>\n",
        "      <bibl type=\"digitalSource\">\n",
        "        <title></title>\n",
        "      </bibl>\n",
        "    </sourceDesc>\n",
        "    '''\n",
        "    digitalSourcesoup = BeautifulSoup(digitalSource_as_string, 'xml')\n",
        "    digitalSourcesoup.title.append(originalSource)\n",
        "    soup.fileDesc.append(digitalSourcesoup)\n"
      ]
    },
    {
      "cell_type": "code",
      "execution_count": null,
      "metadata": {
        "id": "33ec7f4f"
      },
      "outputs": [],
      "source": [
        "def add_standoff(soup):\n",
        "    standoff_as_string = f'''\n",
        "    <standOff>\n",
        "        <listEvent>\n",
        "        <event type=\"print\" when=\"9999\">\n",
        "        <desc/>\n",
        "        </event>\n",
        "        <event type=\"premiere\" when=\"9999\">\n",
        "        <desc/>\n",
        "        </event>\n",
        "        <event type=\"written\" when=\"9999\">\n",
        "        <desc/>\n",
        "        </event>\n",
        "        </listEvent>\n",
        "        <listRelation>\n",
        "        <relation name=\"wikidata\" active=\"INSERT\" passive=\"INSERT\"/>\n",
        "        </listRelation>\n",
        "    </standOff>\n",
        "    '''\n",
        "    standoffsoup = BeautifulSoup(standoff_as_string, 'xml')\n",
        "    standoff = standoffsoup.standOff\n",
        "    soup.teiHeader.insert_after(standoff)"
      ]
    },
    {
      "cell_type": "code",
      "execution_count": null,
      "metadata": {
        "id": "969452f0"
      },
      "outputs": [],
      "source": [
        "def replace_pbstmt(soup):\n",
        "    try:\n",
        "        soup.find('publicationStmt').decompose()\n",
        "        pubstmt_as_string = \"\"\"\n",
        "          <publicationStmt>\n",
        "            <publisher xml:id=\"dracor\">DraCor</publisher>\n",
        "            <idno type=\"URL\">https://dracor.org</idno>\n",
        "            <availability>\n",
        "              <licence>\n",
        "                <ab>CC0 1.0</ab>\n",
        "                <ref target=\"https://creativecommons.org/publicdomain/zero/1.0/\">Licence</ref>\n",
        "              </licence>\n",
        "            </availability>\n",
        "          </publicationStmt>\n",
        "        \"\"\"\n",
        "        pbsoup = BeautifulSoup(pubstmt_as_string, 'xml')\n",
        "        pbstmt = pbsoup.publicationStmt\n",
        "        soup.titleStmt.insert_after(pbstmt)\n",
        "    except:\n",
        "        pass"
      ]
    },
    {
      "cell_type": "code",
      "execution_count": null,
      "metadata": {
        "id": "00a8ea33"
      },
      "outputs": [],
      "source": [
        "def enhance_keywords(soup):\n",
        "   classcode = '<classCode scheme=\"http://www.wikidata.org/entity/\">insert wikidata code</classCode>'\n",
        "   keywords_tag = soup.find('keywords')\n",
        "   pbsoup = BeautifulSoup(classcode, 'xml')\n",
        "   classcode = pbsoup.find('classCode')\n",
        "   keywords_tag.append(classcode)"
      ]
    },
    {
      "cell_type": "code",
      "execution_count": null,
      "metadata": {
        "id": "TMIC_4NcngF6"
      },
      "outputs": [],
      "source": [
        "def add_revisionDesc(soup):\n",
        "    revisionDesc_as_string = f'''\n",
        "    <revisionDesc>\n",
        "      <listChange>\n",
        "        <change when=\"2022-11-22\">(LG) conversion from source</change>\n",
        "      </listChange>\n",
        "    </revisionDesc>\n",
        "    '''\n",
        "    revDescsoup = BeautifulSoup(revisionDesc_as_string, 'xml')\n",
        "    soup.profileDesc.append(revDescsoup)"
      ]
    },
    {
      "cell_type": "code",
      "execution_count": null,
      "metadata": {
        "id": "3674a087"
      },
      "outputs": [],
      "source": [
        "#leftovers from the emothe script\n",
        "'''\n",
        "def replace_titlepage_with_head(soup):\n",
        "    try:\n",
        "        titlePage = soup.find('titlePage')\n",
        "        titletext = titlePage.find('title').text\n",
        "        head = soup.new_tag('head')\n",
        "        head.append(titletext)\n",
        "        titlePage.insert_after(head)\n",
        "        titlePage.decompose()\n",
        "    except:\n",
        "        pass\n",
        "'''"
      ]
    },
    {
      "cell_type": "code",
      "execution_count": null,
      "metadata": {
        "id": "5bf39c86"
      },
      "outputs": [],
      "source": [
        "#leftovers from the emothe script\n",
        "'''\n",
        "def split_author_name(soup):\n",
        "    author = soup.find('author')\n",
        "    text = author.text\n",
        "    splitname = text.split(',')\n",
        "    if len(splitname) == 2:\n",
        "        author.clear()\n",
        "        forename = soup.new_tag('forename')\n",
        "        forename.append(splitname[0].strip())\n",
        "        author.append(forename)\n",
        "        surname = soup.new_tag('surname')\n",
        "        surname.append(splitname[1].strip())\n",
        "        author.append(surname)\n",
        "'''"
      ]
    },
    {
      "cell_type": "markdown",
      "metadata": {
        "id": "59cbcb10"
      },
      "source": [
        "### Applying transformation"
      ]
    },
    {
      "cell_type": "code",
      "execution_count": null,
      "metadata": {
        "id": "3d580acd"
      },
      "outputs": [],
      "source": [
        "!mkdir 'transformed'"
      ]
    },
    {
      "cell_type": "code",
      "execution_count": null,
      "metadata": {
        "id": "3b687e5f"
      },
      "outputs": [],
      "source": [
        "def process_file(path_to_file):\n",
        "    with open(path_to_file, 'r', encoding='utf-8') as openfile: \n",
        "        file_as_text = openfile.read()\n",
        "    #    try:\n",
        "        soup = BeautifulSoup(file_as_text, 'xml')\n",
        "        add_partic_desc(soup)\n",
        "        remove_tags(soup, tags_to_remove)\n",
        "        remove_tags_parent_check(soup, tags_to_check_parent_and_remove)\n",
        "        rename_attrs(soup, attrs_to_be_renamed)\n",
        "        remove_attrs(soup, tags_with_attrs_to_remove)\n",
        "        rename_tags_and_add_attr(soup, tags_to_rename_and_add_attr)\n",
        "        add_who_and_partic(soup)        \n",
        "        add_standoff(soup)\n",
        "        recreate_titleStmt(soup)\n",
        "        recreate_sourceDesc(soup)\n",
        "        replace_pbstmt(soup)\n",
        "        enhance_keywords(soup)\n",
        "        add_revisionDesc(soup)\n",
        "        check_attr_and_remove(soup, tags_to_check_attr_and_remove)\n",
        "        replace_with_children(soup, tags_to_replace_with_children)\n",
        "        #replace_titlepage_with_head(soup)\n",
        "        #split_author_name(soup)\n",
        "        new_path = soup.surname.text + '_' + soup.title.text + '.xml'\n",
        "        new_path = 'transformed/' + new_path\n",
        "        print(new_path)\n",
        "        with open(new_path, 'w', encoding='utf-8') as output:\n",
        "            output.write(str(soup))\n",
        "     #   except:\n",
        "      #      print(f'failed to process' , path_to_file)"
      ]
    },
    {
      "cell_type": "code",
      "execution_count": null,
      "metadata": {
        "id": "05ada7f8"
      },
      "outputs": [],
      "source": [
        "#process all:\n",
        "for xmlfilename in os.listdir('source_xmls'):\n",
        "    print(xmlfilename)\n",
        "    process_file(os.path.join('source_xmls', xmlfilename))"
      ]
    },
    {
      "cell_type": "markdown",
      "metadata": {
        "id": "1d98c7e6"
      },
      "source": [
        "### Adding indents"
      ]
    },
    {
      "cell_type": "code",
      "execution_count": null,
      "metadata": {
        "id": "SQ278JAJV1m_"
      },
      "outputs": [],
      "source": [
        "#upload the xml formatter\n",
        "\n",
        "if not os.path.isfile('format.conf'):\n",
        "    wget.download('https://raw.githubusercontent.com/lucagiovannini7/baroque-networks/main/dracor-xmls/xmlformat.pl')\n",
        "\n",
        "!cp xmlformat.pl /usr/local/bin/xmlformat\n",
        "\n",
        "!chmod 755 -R /usr/local/bin/xmlformat\n"
      ]
    },
    {
      "cell_type": "code",
      "execution_count": null,
      "metadata": {
        "id": "2d42dab0"
      },
      "outputs": [],
      "source": [
        "#upload the format.conf file\n",
        "\n",
        "if not os.path.isfile('format.conf'):\n",
        "    wget.download('https://raw.githubusercontent.com/dracor-org/gerdracor/main/format.conf')"
      ]
    },
    {
      "cell_type": "code",
      "execution_count": null,
      "metadata": {
        "id": "165ebc6d"
      },
      "outputs": [],
      "source": [
        "for filename in os.listdir('transformed'):\n",
        "    if '.xml' in filename:\n",
        "        file_path = os.path.join('transformed', filename)\n",
        "        try:\n",
        "            os.system(f'xmlformat --config-file=format.conf \\\"{file_path}\\\" > \\\"{file_path.replace(\".xml\",\"\")}_indented.xml\\\" ')\n",
        "            os.system(f'rm {file_path}')\n",
        "        except:\n",
        "            print('indentation failed:', filename)"
      ]
    }
  ],
  "metadata": {
    "colab": {
      "provenance": [],
      "authorship_tag": "ABX9TyOOAmV4C14RK8h0UN2Hztmu",
      "include_colab_link": true
    },
    "kernelspec": {
      "display_name": "Python 3",
      "name": "python3"
    },
    "language_info": {
      "name": "python"
    }
  },
  "nbformat": 4,
  "nbformat_minor": 0
}